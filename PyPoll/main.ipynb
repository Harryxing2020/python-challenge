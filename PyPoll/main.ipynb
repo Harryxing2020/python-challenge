{
 "cells": [
  {
   "cell_type": "markdown",
   "metadata": {},
   "source": [
    "## Instructions\n",
    "\n",
    "* Open the file, `cereal.csv` and start by skipping the header row. See hints below for this.\n",
    "\n",
    "* Read through the remaining rows and find the cereals that contain five grams of fiber or more, printing the data from those rows to the terminal."
   ]
  },
  {
   "cell_type": "code",
   "execution_count": 62,
   "metadata": {},
   "outputs": [
    {
     "name": "stdout",
     "output_type": "stream",
     "text": [
      "```text\n",
      "Election Results\n",
      "-------------------------\n",
      "Total Votes: 3521001\n",
      "-------------------------\n",
      "Khan: 63.000%(2218231)\n",
      "Correy: 20.000%(704200)\n",
      "Li: 14.000%(492940)\n",
      "O'Tooley: 3.000%(105630)\n",
      "-------------------------\n",
      "Winner: Khan\n",
      "-------------------------\n",
      "\n"
     ]
    }
   ],
   "source": [
    "# Dependencies\n",
    "import os\n",
    "import csv\n",
    "\n",
    "# Specify the file to read from\n",
    "election_data = os.path.join(\"Resources\", \"election_data.csv\")\n",
    "\n",
    "# Open the file using \"read\" mode. Specify the variable to hold the contents\n",
    "with open(election_data) as csvfile:\n",
    "\n",
    "    # Initialize csv.\n",
    "    csvreader = csv.reader(csvfile, delimiter=',')\n",
    "    \n",
    "    # skip the header of the file \n",
    "    csv_header = next(csvreader)\n",
    "    \n",
    "    # Initialize valuable.\n",
    "    # total vote is the number of vote\n",
    "    total_Vote = 0\n",
    "    # The number of vote for four condidate\n",
    "    KhanCount = 0\n",
    "    CorreyCount = 0\n",
    "    OTooleyCount = 0\n",
    "    LiCount = 0\n",
    "    # the valuable for the Winner Name \n",
    "    winnerName = \"\"\n",
    "    # the number list for each condidate\n",
    "    Pypoll_dict = {\"Khan\":0, \"Correy\":0, \"Li\":0, \"O'Tooley\":0  }\n",
    "    \n",
    "    #read each line from the file\n",
    "    for row in csvreader:\n",
    "            # get the number of total vote\n",
    "            total_Vote = total_Vote + 1 \n",
    "            # add the vote \n",
    "            Pypoll_dict[row[2]] += 1\n",
    "#close file \n",
    "csvfile.close()\n",
    "# The number of voter \n",
    "output_String = \"```text\\nElection Results\\n-------------------------\\nTotal Votes: {0}\\n\".format(total_Vote)\n",
    "# format prepare \n",
    "output_String = output_String + \"-------------------------\\n\"\n",
    "# calculate the percentage\n",
    "for key,value in Pypoll_dict.items():\n",
    "    percentValue = Pypoll_dict[key]/total_Vote\n",
    "    output_String = output_String + key + \": {:.3%}({b})\\n\".format( percentValue ,b = Pypoll_dict[key])\n",
    "# format prepare \n",
    "output_String = output_String + \"-------------------------\\n\"\n",
    "# find the winner \n",
    "output_String = output_String + \"Winner: {0}\\n\".format(max(Pypoll_dict, key=Pypoll_dict.get) )\n",
    "# format prepare \n",
    "output_String = output_String + \"-------------------------\\n\"\n",
    "# result output\n",
    "print(output_String)\n",
    "\n",
    "\n",
    "# Specify the file to write to \n",
    "output = open(\"election_output.txt\", \"w\")\n",
    "#write to file \n",
    "output.write(output_String)\n",
    "#close file \n",
    "output.close()"
   ]
  },
  {
   "cell_type": "code",
   "execution_count": 58,
   "metadata": {},
   "outputs": [
    {
     "name": "stdout",
     "output_type": "stream",
     "text": [
      "GameOfThrones\n"
     ]
    }
   ],
   "source": [
    "Tv = {'BreakingBad':100, 'GameOfThrones':1292, 'TMKUC' : 88} \n",
    "  \n",
    "Keymax = max(Tv, key=Tv.get) \n",
    "print(Keymax) "
   ]
  },
  {
   "cell_type": "markdown",
   "metadata": {},
   "source": [
    "#### Hint\n",
    "\n",
    "* Everything within the csv is stored as a string and certain rows have a decimal. This means that they will have to be cast to be used.\n",
    "\n",
    "* The csv.Reader begins reading the csv file at the first row. `next(csv_reader, None)` will skip the header row. Refer to this stackoverflow answer on [how to skip the header](https://stackoverflow.com/a/14257599) for more information.\n",
    "\n",
    "* Integers in Python are whole numbers and, as such, cannot contain decimals. As such, your numbers containing decimal points will have to be cast as a `float`.\n",
    "\n",
    "#### Bonus\n",
    "\n",
    "* Try the following again but this time using `cereal_bonus.csv`, which does not include a header."
   ]
  }
 ],
 "metadata": {
  "kernelspec": {
   "display_name": "Python 3",
   "language": "python",
   "name": "python3"
  },
  "language_info": {
   "codemirror_mode": {
    "name": "ipython",
    "version": 3
   },
   "file_extension": ".py",
   "mimetype": "text/x-python",
   "name": "python",
   "nbconvert_exporter": "python",
   "pygments_lexer": "ipython3",
   "version": "3.7.6"
  }
 },
 "nbformat": 4,
 "nbformat_minor": 4
}
