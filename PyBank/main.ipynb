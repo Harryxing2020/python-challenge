{
 "cells": [
  {
   "cell_type": "markdown",
   "metadata": {},
   "source": [
    "## Instructions\n",
    "\n",
    "* Open the file, `cereal.csv` and start by skipping the header row. See hints below for this.\n",
    "\n",
    "* Read through the remaining rows and find the cereals that contain five grams of fiber or more, printing the data from those rows to the terminal."
   ]
  },
  {
   "cell_type": "code",
   "execution_count": 14,
   "metadata": {},
   "outputs": [
    {
     "name": "stdout",
     "output_type": "stream",
     "text": [
      "```text\n",
      "Financial Analysis\n",
      "----------------------------\n",
      "Total Months: 86\n",
      "Total: $38382578\n",
      "Average  Change: $-2315.12\n",
      "Greatest Increase in Profits:Feb-2012 ($1926159)\n",
      "Greatest Decrease in Profits:Sep-2013 ($-2196167)\n",
      "\n"
     ]
    }
   ],
   "source": [
    "# Dependencies\n",
    "import os\n",
    "import csv\n",
    "# Specify the file to read from\n",
    "budget_data = os.path.join(\"Resources\", \"budget_data.csv\")\n",
    "# Open the file using \"read\" mode. Specify the variable to hold the contents\n",
    "with open(budget_data) as csvfile:\n",
    "    # Initialize csv.\n",
    "    csvreader = csv.reader(csvfile, delimiter=',')\n",
    "    # skip the header of the file \n",
    "    csv_header = next(csvreader)\n",
    "     # Initialize valuable.\n",
    "    total_number_months = 0\n",
    "    greatest_decrease = 0\n",
    "    greatest_increase = 0 \n",
    "    increase_index = 0\n",
    "    decrease_index = 0\n",
    "    currentRowValue = 0\n",
    "    lastRowValue = 0\n",
    "    \n",
    "    budget_data_list = []\n",
    "    budget_diff_list = []\n",
    "    budget_date_list = []   \n",
    "\n",
    "    \n",
    "    #read each line from the file\n",
    "    for row in csvreader:\n",
    "            currentDate = row[0] # get the date from list\n",
    "            currentRowValue = int(row[1]) # get the value from list\n",
    "            currentDiff = 0 \n",
    "            if total_number_months!=0:\n",
    "                currentDiff = currentRowValue-lastRowValue # get the diff from list\n",
    "            budget_date_list.append(currentDate) # append to date list\n",
    "            budget_data_list.append(currentRowValue)# append to data list\n",
    "            budget_diff_list.append(currentDiff)# append to diff list\n",
    "            lastRowValue = currentRowValue # save the current value\n",
    "            total_number_months += 1\n",
    "    #close file         \n",
    "    csvfile.close()\n",
    "    \n",
    "    # get the number of month\n",
    "    total_number_months = len(budget_date_list)\n",
    "    \n",
    "    # get average changes\n",
    "    average_changes_ProfitLosses = round(sum(budget_diff_list)/(total_number_months-1),2)\n",
    "    \n",
    "    # get max value changes\n",
    "    greatest_increase = max(budget_diff_list)\n",
    "    # the index of max value\n",
    "    increase_index = budget_diff_list.index(greatest_increase)\n",
    "    # the max value \n",
    "    greatest_increase_date = budget_date_list[increase_index]\n",
    "    \n",
    "    # get the greatest decrease value changes\n",
    "    greatest_decrease = min(budget_diff_list)\n",
    "    # the index of max decrease value\n",
    "    decrease_index = budget_diff_list.index(greatest_decrease)\n",
    "    # the max decrease value \n",
    "    greatest_decrease_date = budget_date_list[decrease_index]\n",
    "    \n",
    "    output_String= \"```text\\nFinancial Analysis\\n----------------------------\\n\"\n",
    "    \n",
    "    #format total number months\n",
    "    output_String = output_String + \"Total Months: {0}\\n\".format(total_number_months)\n",
    "    #format sum value \n",
    "    output_String = output_String + \"Total: ${0}\\n\".format(sum(budget_data_list))\n",
    "    #format Average  Change\n",
    "    output_String = output_String + \"Average  Change: ${0}\\n\".format(round(average_changes_ProfitLosses,2))\n",
    "    #Greatest Increase in Profits\n",
    "    output_String = output_String + \"Greatest Increase in Profits:{0} (${1})\\n\".format(greatest_increase_date, greatest_increase )\n",
    "    #Greatest Decrease in Profits\n",
    "    output_String = output_String + \"Greatest Decrease in Profits:{0} (${1})\\n\".format(greatest_decrease_date, greatest_decrease )\n",
    "    print(output_String)\n",
    "\n",
    "    # Specify the file to write to\n",
    "    output = open(\"PyBankoutput.txt\", \"w\")\n",
    "    # write to file \n",
    "    output.write(output_String)\n",
    "    # close file \n",
    "    output.close()\n"
   ]
  },
  {
   "cell_type": "code",
   "execution_count": 31,
   "metadata": {},
   "outputs": [
    {
     "name": "stdout",
     "output_type": "stream",
     "text": [
      "[116771, -662642, -391430, 379920, 212354, 510239, -428211, -821271, 693918, 416278, -974163, 860159, -1115009, 1033048, 95318, -308093, 99052, -521393, 605450, 231727, -65187, -702716, 177975, -1065544, 1926159, -917805, 898730, -334262, -246499, -64055, -1529236, 1497596, 304914, -635801, 398319, -183161, -37864, -253689, 403655, 94168, 306877, -83000, 210462, -2196167, 1465222, -956983, 1838447, -468003, -64602, 206242, -242155, -449079, 315198, 241099, 111540, 365942, -219310, -368665, 409837, 151210, -110244, -341938, -1212159, 683246, -70825, 335594, 417334, -272194, -236462, 657432, -211262, -128237, -1750387, 925441, 932089, -311434, 267252, -1876758, 1733696, 198551, -665765, 693229, -734926, 77242, 532869]\n",
      "Financial Analysis\n",
      "---------------------\n",
      "Total Months: 86\n",
      "Total: $38382578\n",
      "Average Change: $-2315.12\n",
      "Greatest Increase in Profits: Feb-2012 ($1926159)\n",
      "Greatest Decrease in Profits: Sep-2013 ($-2196167)\n"
     ]
    },
    {
     "data": {
      "text/plain": [
       "202"
      ]
     },
     "execution_count": 31,
     "metadata": {},
     "output_type": "execute_result"
    }
   ],
   "source": []
  },
  {
   "cell_type": "markdown",
   "metadata": {},
   "source": [
    "#### Hint\n",
    "\n",
    "* Everything within the csv is stored as a string and certain rows have a decimal. This means that they will have to be cast to be used.\n",
    "\n",
    "* The csv.Reader begins reading the csv file at the first row. `next(csv_reader, None)` will skip the header row. Refer to this stackoverflow answer on [how to skip the header](https://stackoverflow.com/a/14257599) for more information.\n",
    "\n",
    "* Integers in Python are whole numbers and, as such, cannot contain decimals. As such, your numbers containing decimal points will have to be cast as a `float`.\n",
    "\n",
    "#### Bonus\n",
    "\n",
    "* Try the following again but this time using `cereal_bonus.csv`, which does not include a header."
   ]
  }
 ],
 "metadata": {
  "kernelspec": {
   "display_name": "Python 3",
   "language": "python",
   "name": "python3"
  },
  "language_info": {
   "codemirror_mode": {
    "name": "ipython",
    "version": 3
   },
   "file_extension": ".py",
   "mimetype": "text/x-python",
   "name": "python",
   "nbconvert_exporter": "python",
   "pygments_lexer": "ipython3",
   "version": "3.7.6"
  }
 },
 "nbformat": 4,
 "nbformat_minor": 4
}
